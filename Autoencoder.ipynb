{
  "nbformat": 4,
  "nbformat_minor": 0,
  "metadata": {
    "colab": {
      "provenance": [],
      "gpuType": "T4"
    },
    "kernelspec": {
      "name": "python3",
      "display_name": "Python 3"
    },
    "language_info": {
      "name": "python"
    },
    "accelerator": "GPU",
    "gpuClass": "standard"
  },
  "cells": [
    {
      "cell_type": "code",
      "source": [
        "import torch\n",
        "import torch.nn as nn\n",
        "import torch.optim as optim\n",
        "import torchvision.datasets as datasets\n",
        "import torchvision.transforms as transforms\n",
        "import matplotlib.pyplot as plt\n",
        "\n",
        "# Define the autoencoder model\n",
        "class Autoencoder(nn.Module):\n",
        "    def __init__(self):\n",
        "        super(Autoencoder, self).__init__()\n",
        "        self.encoder = nn.Sequential(\n",
        "            nn.Linear(1, 256),\n",
        "            nn.ReLU(),\n",
        "            nn.Linear(256, 64),\n",
        "            nn.ReLU(),\n",
        "            nn.Linear(64, 16),\n",
        "            nn.ReLU(),\n",
        "            nn.Linear(16, 2)\n",
        "        )\n",
        "        self.decoder = nn.Sequential(\n",
        "            nn.Linear(2, 16),\n",
        "            nn.ReLU(),\n",
        "            nn.Linear(16, 64),\n",
        "            nn.ReLU(),\n",
        "            nn.Linear(64, 256),\n",
        "            nn.ReLU(),\n",
        "            nn.Linear(256, 784),\n",
        "            nn.Sigmoid()\n",
        "        )\n",
        "\n",
        "    def forward(self, x):\n",
        "        x = self.encoder(x)\n",
        "        x = self.decoder(x)\n",
        "        return x"
      ],
      "metadata": {
        "id": "tdYU9lpdL7AW"
      },
      "execution_count": null,
      "outputs": []
    },
    {
      "cell_type": "code",
      "source": [
        "# Create the autoencoder model and set the loss function and optimizer\n",
        "model = Autoencoder()\n",
        "criterion = nn.MSELoss()\n",
        "optimizer = optim.Adam(model.parameters(), lr=0.001)\n",
        "\n",
        "# Train the model\n",
        "num_epochs = 10\n",
        "batch_size = 64\n",
        "train_loader = torch.utils.data.DataLoader(\n",
        "    datasets.MNIST('data/', train=True, download=True,\n",
        "                   transform=transforms.Compose([\n",
        "                       transforms.ToTensor(),\n",
        "                   ])),\n",
        "    batch_size=batch_size, shuffle=True)\n"
      ],
      "metadata": {
        "id": "a-_6Phu2L9dG"
      },
      "execution_count": null,
      "outputs": []
    },
    {
      "cell_type": "code",
      "source": [
        "for epoch in range(num_epochs):\n",
        "    for batch_idx, (data, target) in enumerate(train_loader):\n",
        "        data = data.view(data.size(0), -1)\n",
        "        target=torch.tensor(target, dtype=torch.float32).view(data.size(0), -1)\n",
        "        outputs = model(target)\n",
        "        loss = criterion(outputs, data)\n",
        "        optimizer.zero_grad()\n",
        "        loss.backward()\n",
        "        optimizer.step()\n",
        "        \n",
        "        if (batch_idx+1) % 100 == 0:\n",
        "            print(f'Epoch [{epoch+1}/{num_epochs}], Step [{batch_idx+1}/{len(train_loader)}], Loss: {loss.item():.4f}')\n",
        "\n"
      ],
      "metadata": {
        "colab": {
          "base_uri": "https://localhost:8080/"
        },
        "id": "aD6l6KzrL_f9",
        "outputId": "74379be9-c335-4291-862f-536884f150ee"
      },
      "execution_count": null,
      "outputs": [
        {
          "output_type": "stream",
          "name": "stderr",
          "text": [
            "<ipython-input-90-312f04e2ac83>:4: UserWarning: To copy construct from a tensor, it is recommended to use sourceTensor.clone().detach() or sourceTensor.clone().detach().requires_grad_(True), rather than torch.tensor(sourceTensor).\n",
            "  target=torch.tensor(target, dtype=torch.float32).view(data.size(0), -1)\n"
          ]
        },
        {
          "output_type": "stream",
          "name": "stdout",
          "text": [
            "Epoch [1/10], Step [100/938], Loss: 0.0640\n",
            "Epoch [1/10], Step [200/938], Loss: 0.0619\n",
            "Epoch [1/10], Step [300/938], Loss: 0.0648\n",
            "Epoch [1/10], Step [400/938], Loss: 0.0603\n",
            "Epoch [1/10], Step [500/938], Loss: 0.0586\n",
            "Epoch [1/10], Step [600/938], Loss: 0.0590\n",
            "Epoch [1/10], Step [700/938], Loss: 0.0575\n",
            "Epoch [1/10], Step [800/938], Loss: 0.0572\n",
            "Epoch [1/10], Step [900/938], Loss: 0.0579\n",
            "Epoch [2/10], Step [100/938], Loss: 0.0555\n",
            "Epoch [2/10], Step [200/938], Loss: 0.0535\n",
            "Epoch [2/10], Step [300/938], Loss: 0.0577\n",
            "Epoch [2/10], Step [400/938], Loss: 0.0536\n",
            "Epoch [2/10], Step [500/938], Loss: 0.0574\n",
            "Epoch [2/10], Step [600/938], Loss: 0.0553\n",
            "Epoch [2/10], Step [700/938], Loss: 0.0523\n",
            "Epoch [2/10], Step [800/938], Loss: 0.0549\n",
            "Epoch [2/10], Step [900/938], Loss: 0.0544\n",
            "Epoch [3/10], Step [100/938], Loss: 0.0531\n",
            "Epoch [3/10], Step [200/938], Loss: 0.0593\n",
            "Epoch [3/10], Step [300/938], Loss: 0.0543\n",
            "Epoch [3/10], Step [400/938], Loss: 0.0528\n",
            "Epoch [3/10], Step [500/938], Loss: 0.0545\n",
            "Epoch [3/10], Step [600/938], Loss: 0.0584\n",
            "Epoch [3/10], Step [700/938], Loss: 0.0521\n",
            "Epoch [3/10], Step [800/938], Loss: 0.0561\n",
            "Epoch [3/10], Step [900/938], Loss: 0.0557\n",
            "Epoch [4/10], Step [100/938], Loss: 0.0552\n",
            "Epoch [4/10], Step [200/938], Loss: 0.0510\n",
            "Epoch [4/10], Step [300/938], Loss: 0.0544\n",
            "Epoch [4/10], Step [400/938], Loss: 0.0542\n",
            "Epoch [4/10], Step [500/938], Loss: 0.0554\n",
            "Epoch [4/10], Step [600/938], Loss: 0.0536\n",
            "Epoch [4/10], Step [700/938], Loss: 0.0534\n",
            "Epoch [4/10], Step [800/938], Loss: 0.0535\n",
            "Epoch [4/10], Step [900/938], Loss: 0.0549\n",
            "Epoch [5/10], Step [100/938], Loss: 0.0574\n",
            "Epoch [5/10], Step [200/938], Loss: 0.0491\n",
            "Epoch [5/10], Step [300/938], Loss: 0.0535\n",
            "Epoch [5/10], Step [400/938], Loss: 0.0506\n",
            "Epoch [5/10], Step [500/938], Loss: 0.0561\n",
            "Epoch [5/10], Step [600/938], Loss: 0.0515\n",
            "Epoch [5/10], Step [700/938], Loss: 0.0513\n",
            "Epoch [5/10], Step [800/938], Loss: 0.0569\n",
            "Epoch [5/10], Step [900/938], Loss: 0.0569\n",
            "Epoch [6/10], Step [100/938], Loss: 0.0545\n",
            "Epoch [6/10], Step [200/938], Loss: 0.0527\n",
            "Epoch [6/10], Step [300/938], Loss: 0.0553\n",
            "Epoch [6/10], Step [400/938], Loss: 0.0554\n",
            "Epoch [6/10], Step [500/938], Loss: 0.0518\n",
            "Epoch [6/10], Step [600/938], Loss: 0.0533\n",
            "Epoch [6/10], Step [700/938], Loss: 0.0557\n",
            "Epoch [6/10], Step [800/938], Loss: 0.0567\n",
            "Epoch [6/10], Step [900/938], Loss: 0.0516\n",
            "Epoch [7/10], Step [100/938], Loss: 0.0536\n",
            "Epoch [7/10], Step [200/938], Loss: 0.0518\n",
            "Epoch [7/10], Step [300/938], Loss: 0.0524\n",
            "Epoch [7/10], Step [400/938], Loss: 0.0523\n",
            "Epoch [7/10], Step [500/938], Loss: 0.0589\n",
            "Epoch [7/10], Step [600/938], Loss: 0.0537\n",
            "Epoch [7/10], Step [700/938], Loss: 0.0537\n",
            "Epoch [7/10], Step [800/938], Loss: 0.0561\n",
            "Epoch [7/10], Step [900/938], Loss: 0.0532\n",
            "Epoch [8/10], Step [100/938], Loss: 0.0532\n",
            "Epoch [8/10], Step [200/938], Loss: 0.0555\n",
            "Epoch [8/10], Step [300/938], Loss: 0.0523\n",
            "Epoch [8/10], Step [400/938], Loss: 0.0517\n",
            "Epoch [8/10], Step [500/938], Loss: 0.0558\n",
            "Epoch [8/10], Step [600/938], Loss: 0.0489\n",
            "Epoch [8/10], Step [700/938], Loss: 0.0533\n",
            "Epoch [8/10], Step [800/938], Loss: 0.0579\n",
            "Epoch [8/10], Step [900/938], Loss: 0.0488\n",
            "Epoch [9/10], Step [100/938], Loss: 0.0568\n",
            "Epoch [9/10], Step [200/938], Loss: 0.0534\n",
            "Epoch [9/10], Step [300/938], Loss: 0.0502\n",
            "Epoch [9/10], Step [400/938], Loss: 0.0530\n",
            "Epoch [9/10], Step [500/938], Loss: 0.0544\n",
            "Epoch [9/10], Step [600/938], Loss: 0.0518\n",
            "Epoch [9/10], Step [700/938], Loss: 0.0547\n",
            "Epoch [9/10], Step [800/938], Loss: 0.0587\n",
            "Epoch [9/10], Step [900/938], Loss: 0.0502\n",
            "Epoch [10/10], Step [100/938], Loss: 0.0548\n",
            "Epoch [10/10], Step [200/938], Loss: 0.0525\n",
            "Epoch [10/10], Step [300/938], Loss: 0.0552\n",
            "Epoch [10/10], Step [400/938], Loss: 0.0526\n",
            "Epoch [10/10], Step [500/938], Loss: 0.0570\n",
            "Epoch [10/10], Step [600/938], Loss: 0.0540\n",
            "Epoch [10/10], Step [700/938], Loss: 0.0567\n",
            "Epoch [10/10], Step [800/938], Loss: 0.0535\n",
            "Epoch [10/10], Step [900/938], Loss: 0.0510\n"
          ]
        }
      ]
    },
    {
      "cell_type": "code",
      "source": [
        "import torch\n",
        "import torchvision.transforms as transforms\n",
        "from torchvision import datasets\n",
        "import matplotlib.pyplot as plt\n",
        "\n",
        "# Create a function to create input tensors\n",
        "def create_input(number):\n",
        "    # Load MNIST dataset\n",
        "    transform = transforms.Compose([transforms.ToTensor()])\n",
        "    dataset = datasets.MNIST(root='data/', train=True, transform=transform, download=True)\n",
        "\n",
        "    # Get the image corresponding to the number\n",
        "    index = dataset.targets == number\n",
        "    image = dataset.data[index][0]\n",
        "\n",
        "    # Create input tensor\n",
        "    input_tensor = torch.tensor(image, dtype=torch.float32).view(1, -1)\n",
        "    input_tensor = input_tensor.unsqueeze(0) # add a dimension to the tensor to match the input shape of the model\n",
        "    return input_tensor, torch.tensor([number], dtype=torch.float32)"
      ],
      "metadata": {
        "id": "4xz3TKuKMBUG"
      },
      "execution_count": null,
      "outputs": []
    },
    {
      "cell_type": "code",
      "source": [
        "# Test the model on a specific number\n",
        "input_tensor, target = create_input(0)\n",
        "print(target.shape)\n",
        "output_tensor = model(target).squeeze() # use the squeeze function to remove the extra dimension of the output tensor\n",
        "\n",
        "# Convert the output tensor to a numpy array and reshape it to an image format\n",
        "output_image = output_tensor.detach().numpy().reshape((28,28))\n",
        "\n",
        "# Plot the input and output images\n",
        "fig, ax = plt.subplots(nrows=1, ncols=2)\n",
        "ax[0].imshow(input_tensor.view(28, 28), cmap='gray')\n",
        "ax[0].set_title('Input Image')\n",
        "ax[0].axis('off')\n",
        "ax[1].imshow(output_image, cmap='gray')\n",
        "ax[1].set_title('Output Image')\n",
        "ax[1].axis('off')\n",
        "plt.show()"
      ],
      "metadata": {
        "colab": {
          "base_uri": "https://localhost:8080/",
          "height": 359
        },
        "id": "ctDlBXWJQLA2",
        "outputId": "8ea35e09-354e-401d-be54-f96c54403e8d"
      },
      "execution_count": null,
      "outputs": [
        {
          "output_type": "stream",
          "name": "stdout",
          "text": [
            "torch.Size([1])\n"
          ]
        },
        {
          "output_type": "stream",
          "name": "stderr",
          "text": [
            "<ipython-input-91-096d4bcce533>:17: UserWarning: To copy construct from a tensor, it is recommended to use sourceTensor.clone().detach() or sourceTensor.clone().detach().requires_grad_(True), rather than torch.tensor(sourceTensor).\n",
            "  input_tensor = torch.tensor(image, dtype=torch.float32).view(1, -1)\n"
          ]
        },
        {
          "output_type": "display_data",
          "data": {
            "text/plain": [
              "<Figure size 640x480 with 2 Axes>"
            ],
            "image/png": "[encoded data removed]"
          },
          "metadata": {}
        }
      ]
    }
  ]
}